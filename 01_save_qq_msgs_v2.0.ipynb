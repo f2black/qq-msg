{
 "cells": [
  {
   "cell_type": "code",
   "execution_count": 5,
   "metadata": {
    "collapsed": false
   },
   "outputs": [
    {
     "name": "stdout",
     "output_type": "stream",
     "text": [
      "开始整理北京数学哥(28505355)的留言...\n",
      "整理完成\n",
      "开始整理快乐人生(448064184)的留言...\n",
      "整理完成\n",
      "开始整理妈妈爱牛牛(987422909)的留言...\n",
      "整理完成\n",
      "开始整理青岛—小禾苗(2429246562)的留言...\n",
      "整理完成\n",
      "开始整理后知后觉已十年-上海(3367537735)的留言...\n",
      "整理完成\n",
      "开始整理北京飘落的长发(914444602)的留言...\n",
      "整理完成\n"
     ]
    }
   ],
   "source": [
    "from save_qq_msgs import *\n",
    "#import save_qq_msgs\n",
    "save_vip_msg()"
   ]
  },
  {
   "cell_type": "code",
   "execution_count": null,
   "metadata": {
    "collapsed": true
   },
   "outputs": [],
   "source": []
  }
 ],
 "metadata": {
  "kernelspec": {
   "display_name": "Python [Root]",
   "language": "python",
   "name": "Python [Root]"
  },
  "language_info": {
   "codemirror_mode": {
    "name": "ipython",
    "version": 3
   },
   "file_extension": ".py",
   "mimetype": "text/x-python",
   "name": "python",
   "nbconvert_exporter": "python",
   "pygments_lexer": "ipython3",
   "version": "3.5.2"
  }
 },
 "nbformat": 4,
 "nbformat_minor": 0
}
