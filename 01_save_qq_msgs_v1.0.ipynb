{
 "cells": [
  {
   "cell_type": "code",
   "execution_count": 2,
   "metadata": {
    "collapsed": false
   },
   "outputs": [
    {
     "name": "stdout",
     "output_type": "stream",
     "text": [
      "开始整理北京数学哥(28505355)的留言...\n",
      "整理完成\n",
      "开始整理快乐人生(448064184)的留言...\n",
      "整理完成\n",
      "开始整理妈妈爱牛牛(987422909)的留言...\n",
      "整理完成\n",
      "开始整理青岛—小禾苗(2429246562)的留言...\n",
      "整理完成\n",
      "开始整理后知后觉已十年-上海(3367537735)的留言...\n",
      "整理完成\n",
      "开始整理北京飘落的长发(914444602)的留言...\n",
      "整理完成\n"
     ]
    }
   ],
   "source": [
    "import codecs\n",
    "\n",
    "#-----------------------------------------------------------------------\n",
    "#-----------------------配置信息----------------------------------------\n",
    "\n",
    "#需要整理的QQ号\n",
    "vip_qq_ids = ['28505355', '448064184', '987422909', '2429246562', '3367537735', '914444602']\n",
    "\n",
    "#QQ号和QQ昵称的对应关系\n",
    "vip_qq_name_id = {'28505355':u'北京数学哥',\\\n",
    "                '448064184':u'快乐人生',\\\n",
    "                '987422909':u'妈妈爱牛牛',\\\n",
    "                '2429246562':u'青岛—小禾苗',\\\n",
    "                '3367537735':u'后知后觉已十年-上海',\\\n",
    "                '914444602':u'北京飘落的长发'}     \n",
    "\n",
    "#指定原始QQ群消息历史记录所在位置\n",
    "qq_record_file_date = \"(20161127-20161204)\"\n",
    "qq_record_file_name = \"顺势投资核心组\" + qq_record_file_date + \".txt\"\n",
    "qq_record_file_path = \"h:/08t2ff/02QQ/20161204/\"\n",
    "qq_record_file = qq_record_file_path + qq_record_file_name\n",
    "\n",
    "#QQ留言时间段，暂时不从消息内容提取，直接在这里手写指定\n",
    "#start_time = \"20161023\"\n",
    "#end_time = \"20161030\"\n",
    "\n",
    "#-----------------------------------------------------------------------\n",
    "\n",
    "def get_all_qq_msgs(qq_record_file):\n",
    "    file = codecs.open(qq_record_file, \"r\", \"utf-8\")\n",
    "    lines = file.readlines()\n",
    "\n",
    "    #获取所有消息记录\n",
    "    msg_record = []\n",
    "    msg = ''    \n",
    "    \n",
    "    for line in lines:\n",
    "        msg = msg + line\n",
    "        if '\\r\\n' == line:            \n",
    "            msg_record.append(msg)\n",
    "            msg = ''   \n",
    "\n",
    "    file.close()\n",
    "    return msg_record\n",
    "\n",
    "def save_msg_of_qqid(in_qqid, all_msgs):\n",
    "    qqid = in_qqid\n",
    "    print(u\"开始整理\"+vip_qq_name_id[qqid] + \"(\" + qqid + \")\" + \"的留言...\")\n",
    "\n",
    "    #以utf-8格式存入txt文件\n",
    "    output_file = qq_record_file_path + u\"消息记录_\" + vip_qq_name_id[qqid] + qq_record_file_date + \".txt\"\n",
    "    file=codecs.open(output_file, \"w\", \"utf-8\")\n",
    "    for msg in all_msgs:\n",
    "        #选取特定人的消息，以qq号为参数\n",
    "        if qqid in msg:\n",
    "            file.write(msg)\n",
    "    file.close()\n",
    "    print(u\"整理完成\")\n",
    "    return\n",
    "\n",
    "def save_vip_msg():\n",
    "\n",
    "    all_msgs = get_all_qq_msgs(qq_record_file)\n",
    "\n",
    "    for id in vip_qq_ids:\n",
    "        save_msg_of_qqid(id, all_msgs)\n",
    "    \n",
    "    return\n",
    "\n",
    "save_vip_msg()"
   ]
  },
  {
   "cell_type": "code",
   "execution_count": null,
   "metadata": {
    "collapsed": true
   },
   "outputs": [],
   "source": []
  },
  {
   "cell_type": "code",
   "execution_count": null,
   "metadata": {
    "collapsed": true
   },
   "outputs": [],
   "source": []
  }
 ],
 "metadata": {
  "kernelspec": {
   "display_name": "Python [Root]",
   "language": "python",
   "name": "Python [Root]"
  },
  "language_info": {
   "codemirror_mode": {
    "name": "ipython",
    "version": 3
   },
   "file_extension": ".py",
   "mimetype": "text/x-python",
   "name": "python",
   "nbconvert_exporter": "python",
   "pygments_lexer": "ipython3",
   "version": "3.5.2"
  }
 },
 "nbformat": 4,
 "nbformat_minor": 0
}
